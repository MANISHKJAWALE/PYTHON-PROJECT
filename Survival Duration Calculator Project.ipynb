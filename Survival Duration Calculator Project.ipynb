{
 "cells": [
  {
   "cell_type": "markdown",
   "id": "f2e09e85",
   "metadata": {},
   "source": [
    "The objective of the project is to calculate the duration of how long a person lived based on his Age. The duration should be calculated in different time units like Months, Weeks, Days, Hours, Minutes, Seconds\n",
    "The input to the application is an Age of a person and the output is expected to calculate the duration of time he lived in different time units as selected by the user.\n"
   ]
  },
  {
   "cell_type": "code",
   "execution_count": 1,
   "id": "b5539d77",
   "metadata": {},
   "outputs": [
    {
     "name": "stdout",
     "output_type": "stream",
     "text": [
      "Enter the age of the person: 28\n",
      "The person has lived for:\n",
      "336 months\n",
      "1456 weeks\n",
      "10220 days\n",
      "245280 hours\n",
      "14716800 minutes\n",
      "883008000 seconds\n"
     ]
    }
   ],
   "source": [
    "from datetime import datetime, timedelta\n",
    "\n",
    "def age_to_duration(age):\n",
    "    \n",
    "    today = datetime.now()\n",
    "    birth_date = today - timedelta(days=365 * age)\n",
    "\n",
    "    duration = {\n",
    "        'months': age * 12,\n",
    "        'weeks': age * 52,\n",
    "        'days': age * 365,\n",
    "        'hours': age * 365 * 24,\n",
    "        'minutes': age * 365 * 24 * 60,\n",
    "        'seconds': age * 365 * 24 * 60 * 60\n",
    "    }\n",
    "\n",
    "    return duration\n",
    "\n",
    "if __name__ == \"__main__\":\n",
    "    age = int(input(\"Enter the age of the person: \"))\n",
    "\n",
    "    duration = age_to_duration(age)\n",
    "\n",
    "    print(f\"The person has lived for:\")\n",
    "    for unit, value in duration.items():\n",
    "        print(f\"{value} {unit}\")"
   ]
  },
  {
   "cell_type": "code",
   "execution_count": null,
   "id": "2a104b36",
   "metadata": {},
   "outputs": [],
   "source": []
  },
  {
   "cell_type": "code",
   "execution_count": null,
   "id": "d6bee3c6",
   "metadata": {},
   "outputs": [],
   "source": []
  },
  {
   "cell_type": "code",
   "execution_count": null,
   "id": "681c0ccd",
   "metadata": {},
   "outputs": [],
   "source": []
  },
  {
   "cell_type": "code",
   "execution_count": null,
   "id": "615aa8a9",
   "metadata": {},
   "outputs": [],
   "source": []
  },
  {
   "cell_type": "code",
   "execution_count": null,
   "id": "153bba58",
   "metadata": {},
   "outputs": [],
   "source": []
  }
 ],
 "metadata": {
  "kernelspec": {
   "display_name": "Python 3 (ipykernel)",
   "language": "python",
   "name": "python3"
  },
  "language_info": {
   "codemirror_mode": {
    "name": "ipython",
    "version": 3
   },
   "file_extension": ".py",
   "mimetype": "text/x-python",
   "name": "python",
   "nbconvert_exporter": "python",
   "pygments_lexer": "ipython3",
   "version": "3.11.5"
  }
 },
 "nbformat": 4,
 "nbformat_minor": 5
}
