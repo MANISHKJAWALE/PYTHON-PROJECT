{
 "cells": [
  {
   "cell_type": "markdown",
   "id": "2e6c8e81",
   "metadata": {},
   "source": [
    "# ATM SIMULATOR PROJECT"
   ]
  },
  {
   "cell_type": "code",
   "execution_count": null,
   "id": "154b426b",
   "metadata": {},
   "outputs": [
    {
     "name": "stdout",
     "output_type": "stream",
     "text": [
      "Enter your account number: 7385203088\n",
      "Enter your PIN: 4078\n",
      "\n",
      "Logged in successfully!\n",
      "\n",
      "ATM menu:\n",
      "1. Check Balance\n",
      "2. Withdraw Cash\n",
      "3. Deposit Cash\n",
      "4. Exit\n",
      "Enter your choice (1/2/3/4): 1\n",
      "Your account balance is RS 5000.00\n",
      "\n",
      "ATM menu:\n",
      "1. Check Balance\n",
      "2. Withdraw Cash\n",
      "3. Deposit Cash\n",
      "4. Exit\n"
     ]
    }
   ],
   "source": [
    "Account_data = {\n",
    "    \"7385203088\": {\"pin\": \"4078\", \"balance\": 5000},\n",
    "    \"7558226650\": {\"pin\": \"9199\", \"balance\": 10000},\n",
    "    \"9028560316\": {\"pin\": \"0316\", \"balance\": 70000}\n",
    "}\n",
    "\n",
    "def display_menu():\n",
    "    print(\"\\nATM menu:\")\n",
    "    print(\"1. Check Balance\")\n",
    "    print(\"2. Withdraw Cash\")\n",
    "    print(\"3. Deposit Cash\")\n",
    "    print(\"4. Exit\")\n",
    "\n",
    "def check_balance(account):\n",
    "    print(\"Your account balance is RS {:.2f}\".format(account['balance']))\n",
    "\n",
    "def withdraw_cash(account, amount):\n",
    "    if amount > account['balance']:\n",
    "        print(\"Insufficient balance\")\n",
    "    else:\n",
    "        account[\"balance\"] -= amount\n",
    "        print(\"Withdraw RS {:.2f}. Your new balance is RS {:.2f}\".format(amount, account[\"balance\"]))\n",
    "\n",
    "def deposit_cash(account, amount):\n",
    "    account[\"balance\"] += amount\n",
    "    print(\"Deposited RS {:.2f}. Your new balance is RS {:.2f}\".format(amount, account[\"balance\"]))\n",
    "\n",
    "def main():\n",
    "    while True:\n",
    "        account_number = input(\"Enter your account number: \")\n",
    "        if account_number not in Account_data:\n",
    "            print(\"Invalid account number\")\n",
    "            continue\n",
    "\n",
    "        max_attempts = 3\n",
    "\n",
    "        while max_attempts > 0:\n",
    "            pin = input(\"Enter your PIN: \")\n",
    "\n",
    "            if pin == Account_data[account_number]['pin']:\n",
    "                break\n",
    "            else:\n",
    "                print(\"Invalid PIN\")\n",
    "                max_attempts -= 1\n",
    "\n",
    "        if max_attempts == 0:\n",
    "            print(\"Maximum PIN entry attempts reached. Your card is blocked.\")\n",
    "            break\n",
    "\n",
    "        print(\"\\nLogged in successfully!\")\n",
    "        account = Account_data[account_number]\n",
    "\n",
    "        while True:\n",
    "            display_menu()\n",
    "            choice = input(\"Enter your choice (1/2/3/4): \")\n",
    "\n",
    "            if choice == '1':\n",
    "                check_balance(account)\n",
    "            elif choice == '2':\n",
    "                amount = float(input(\"Enter the withdrawal amount: \"))\n",
    "                withdraw_cash(account, amount)\n",
    "            elif choice == '3':\n",
    "                amount = float(input(\"Enter the deposit amount: \"))\n",
    "                deposit_cash(account, amount)\n",
    "            elif choice == '4':\n",
    "                print(\"Thank you for using the ATM. Have a nice day!\")\n",
    "                break\n",
    "            else:\n",
    "                print(\"Invalid choice. Please select a valid option (1/2/3/4).\")\n",
    "\n",
    "if __name__ == \"__main__\":\n",
    "    main()"
   ]
  },
  {
   "cell_type": "code",
   "execution_count": null,
   "id": "f6261d80",
   "metadata": {},
   "outputs": [],
   "source": []
  },
  {
   "cell_type": "code",
   "execution_count": null,
   "id": "cf37409c",
   "metadata": {},
   "outputs": [],
   "source": []
  },
  {
   "cell_type": "code",
   "execution_count": null,
   "id": "4caa9130",
   "metadata": {},
   "outputs": [],
   "source": []
  },
  {
   "cell_type": "code",
   "execution_count": null,
   "id": "235a96d1",
   "metadata": {},
   "outputs": [],
   "source": []
  },
  {
   "cell_type": "code",
   "execution_count": null,
   "id": "6017bf2a",
   "metadata": {},
   "outputs": [],
   "source": []
  },
  {
   "cell_type": "code",
   "execution_count": null,
   "id": "2b7b3217",
   "metadata": {},
   "outputs": [],
   "source": []
  },
  {
   "cell_type": "code",
   "execution_count": null,
   "id": "1e445f1d",
   "metadata": {},
   "outputs": [],
   "source": []
  },
  {
   "cell_type": "code",
   "execution_count": null,
   "id": "e7acce6f",
   "metadata": {},
   "outputs": [],
   "source": []
  },
  {
   "cell_type": "code",
   "execution_count": null,
   "id": "b18bab92",
   "metadata": {},
   "outputs": [],
   "source": []
  },
  {
   "cell_type": "code",
   "execution_count": null,
   "id": "4b152689",
   "metadata": {},
   "outputs": [],
   "source": []
  },
  {
   "cell_type": "code",
   "execution_count": null,
   "id": "41a76256",
   "metadata": {},
   "outputs": [],
   "source": []
  },
  {
   "cell_type": "code",
   "execution_count": null,
   "id": "b8b925aa",
   "metadata": {},
   "outputs": [],
   "source": []
  },
  {
   "cell_type": "code",
   "execution_count": null,
   "id": "13ed1055",
   "metadata": {},
   "outputs": [],
   "source": []
  },
  {
   "cell_type": "code",
   "execution_count": null,
   "id": "048b9e62",
   "metadata": {},
   "outputs": [],
   "source": []
  },
  {
   "cell_type": "code",
   "execution_count": null,
   "id": "ef1ef832",
   "metadata": {},
   "outputs": [],
   "source": []
  },
  {
   "cell_type": "code",
   "execution_count": null,
   "id": "80d87948",
   "metadata": {},
   "outputs": [],
   "source": []
  },
  {
   "cell_type": "code",
   "execution_count": null,
   "id": "75fe58cc",
   "metadata": {},
   "outputs": [],
   "source": []
  },
  {
   "cell_type": "code",
   "execution_count": null,
   "id": "624cb72d",
   "metadata": {},
   "outputs": [],
   "source": []
  },
  {
   "cell_type": "code",
   "execution_count": null,
   "id": "c79e9441",
   "metadata": {},
   "outputs": [],
   "source": []
  },
  {
   "cell_type": "code",
   "execution_count": null,
   "id": "fecb1d8b",
   "metadata": {},
   "outputs": [],
   "source": []
  },
  {
   "cell_type": "code",
   "execution_count": null,
   "id": "d4aeb72c",
   "metadata": {},
   "outputs": [],
   "source": []
  },
  {
   "cell_type": "code",
   "execution_count": null,
   "id": "a4322e2a",
   "metadata": {},
   "outputs": [],
   "source": []
  }
 ],
 "metadata": {
  "kernelspec": {
   "display_name": "Python 3 (ipykernel)",
   "language": "python",
   "name": "python3"
  },
  "language_info": {
   "codemirror_mode": {
    "name": "ipython",
    "version": 3
   },
   "file_extension": ".py",
   "mimetype": "text/x-python",
   "name": "python",
   "nbconvert_exporter": "python",
   "pygments_lexer": "ipython3",
   "version": "3.11.5"
  }
 },
 "nbformat": 4,
 "nbformat_minor": 5
}
